{
 "cells": [
  {
   "cell_type": "markdown",
   "metadata": {},
   "source": [
    "# COGS 108 - Project Proposal"
   ]
  },
  {
   "cell_type": "markdown",
   "metadata": {},
   "source": [
    "# Names\n",
    "\n",
    "- Altair Aguelo\n",
    "- Howard Hamilton\n",
    "- Jason Tang\n",
    "- Daniel Ramirez\n",
    "- Ashton Bothun"
   ]
  },
  {
   "cell_type": "markdown",
   "metadata": {},
   "source": [
    "# Research Question"
   ]
  },
  {
   "cell_type": "markdown",
   "metadata": {},
   "source": [
    "-  Include a specific, clear data science question.\n",
    "-  Make sure what you're measuring (variables) to answer the question is clear\n",
    "\n",
    "This question should be specific, answerable with data, and clear. A general question with specific subquestions is permitted. (1-2 sentences). When we read this we should know clearly what your project will be about\n",
    "\n",
    "What is the relationship between serve and match outcome in tennis(point win/loss, game win/loss, match win/loss)? Does this reflect in the player's win percentage?\n",
    "Some possible measures include first serve/second serve, type of serve(flat, kick, slice), position, kind of point(break, match), surface type, serve speed, etc.\n"
   ]
  },
  {
   "cell_type": "markdown",
   "metadata": {},
   "source": [
    "## Background and Prior Work"
   ]
  },
  {
   "cell_type": "markdown",
   "metadata": {},
   "source": [
    "\n",
    "- Include a general introduction to your topic\n",
    "- Include explanation of what work has been done previously\n",
    "- Include citations or links to previous work\n",
    "\n",
    "This section will present the background and context of your topic and question in a few paragraphs. Include a general introduction to your topic and then describe what information you currently know about the topic after doing your initial research. Include references to other projects who have asked similar questions or approached similar problems. Explain what others have learned in their projects.\n",
    "\n",
    "Find some relevant prior work, and reference those sources, summarizing what each did and what they learned. Even if you think you have a totally novel question, find the most similar prior work that you can and discuss how it relates to your project.\n",
    "\n",
    "References can be research publications, but they need not be. Blogs, GitHub repositories, company websites, etc., are all viable references if they are relevant to your project. It must be clear which information comes from which references. (2-3 paragraphs, including at least 2 references)\n",
    "\n",
    " **Use inline citation through HTML footnotes to specify which references support which statements** \n",
    "\n",
    "For example: After government genocide in the 20th century, real birds were replaced with surveillance drones designed to look just like birds.<a name=\"cite_ref-1\"></a>[<sup>1</sup>](#cite_note-1) Use a minimum of 2 or 3 citations, but we prefer more.<a name=\"cite_ref-2\"></a>[<sup>2</sup>](#cite_note-2) You need enough to fully explain and back up important facts. \n",
    "\n",
    "Note that if you click a footnote number in the paragraph above it will transport you to the proper entry in the footnotes list below.  And if you click the ^ in the footnote entry, it will return you to the place in the main text where the footnote is made.\n",
    "\n",
    "To understand the HTML here, `<a name=\"#...\"> </a>` is a tag that allows you produce a named reference for a given location.  Markdown has the construciton `[text with hyperlink](#named reference)` that will produce a clickable link that transports you the named reference.\n",
    "\n",
    "1. <a name=\"cite_note-1\"></a> [^](#cite_ref-1) Lorenz, T. (9 Dec 2021) Birds Aren’t Real, or Are They? Inside a Gen Z Conspiracy Theory. *The New York Times*. https://www.nytimes.com/2021/12/09/technology/birds-arent-real-gen-z-misinformation.html \n",
    "2. <a name=\"cite_note-2\"></a> [^](#cite_ref-2) Also refs should be important to the background, not some randomly chosen vaguely related stuff. Include a web link if possible in refs as above.\n"
   ]
  },
  {
   "cell_type": "markdown",
   "metadata": {},
   "source": [
    "Our group is interested in the possible relationship between serve and match outcome in tennis. To conduct our analysis, we first want to be able to distinguish what makes a “good serve” by measuring aspects of the serve such as placement, speed, type, etc. If there is a measurable distinction, we hope to discover those variables and their significance to winning a point. Furthermore, through these measures we hope to see if the serve and match outcome relationship is reflected in a player’s win percentage, so we can see how important the serve is to a player’s game.\n",
    "\n",
    "We are not the first people to analyze the tennis serve, and its effects on match outcomes; however, there are some differences in their work when compared to the analyses that we want to pursue. For example, Abhinav Maddineni, Samarth Gowda, Eric Liu, and Daniel Liang performed analyses on ATP data to find out what factors (if any) affect serves, if the type of court affects a match’s outcome, and what metrics are important for analyzing the competitiveness of a tennis game.<a name=\"cite_ref-1\"></a>[<sup>1</sup>](#cite_note-1) Notably, their work focused on what factors affect the serve, like player height or court surface, and they made comparisons between winners and losers of matches by looking at various statistics. Our approach is fundamentally different because the data we have available looks at individual player statistics over the course of their entire career. Because the dataset is more granular, we hope to show how the serve affects individual success. Additionally, we seek to focus specifically on the serve and how it relates to a player's match outcomes and win percentage. \n",
    "\n",
    "In another article, we found that analyses have been performed on the probability of winning a point in men's elite tennis where the researchers found that the first serve is crucial to increase the probability of winning the point as well as the length of the rally.<a name=\"cite_ref-2\"></a>[<sup>2</sup>](#cite_note-2) The main difference between our problem and the article’s is that the article has a general focus on what comes after the serve rather than a complete focus on the performance of the serve. We believe that through the similarities of incorporating different factors in a player's serve, this aspect of the article seems the most important in helping answer our research question. \n",
    "\n",
    "Another source was considering players from multiple different groups. This research has a similar idea of looking into the correlation between serves and the overall performance of a player.<a name=\"cite_ref-3\"></a>[<sup>3</sup>](#cite_note-3)  We overlook statistics from different groups, since they compare data from all ages, skill level, and gender. While we only look at statistics from a few professional players. It is keen to note that they are looking to find the difference in serve amongst ages rather than individual success. They also noted that professionals had more success with their serves due to their experience and skills, whilst younger players struggled due to improper technique and strength.\n",
    "\n",
    "The tennis serve has also been analyzed extensively from the perspective of biomechanics. Researchers have worked on determining the factors that affect tennis serve speed by analyzing the different motions that positively and negatively affect the serve speed for tennis players across age groups.<a name=\"cite_ref-4\"></a>[<sup>4</sup>](#cite_note-4) Thus, based on their work, it seems clear that players can optimize their mechanics to improve their serve speed, and this may have an impact on their tennis game. This information is relevant to the professional players whose match data we aim to analyze because it is likely that their coaching teams use research to fine tune their serves to have every advantage possible on the court. We do not plan to analyze any data that pertains a player's swing mechanics, but it is important to keep this in mind.\n",
    "\n",
    "\n",
    "\n",
    "\n",
    "1. <a name=\"cite_note-1\"></a> [^](#cite_ref-1) Gowda, S., Liang, D., Liu, E., Maddineni A. (2021) Serving Up Visualizations: Examining Tennis Data. https://www.stat.cmu.edu/capstoneresearch/spring2021/315files/team13.html#\n",
    "2. <a name=\"cite_ref-3\"></a>[^](#cite_note-2) Prieto-Lage I. et al (28 Sep 2023) Match analysis and probability of winning a point in elite men's singles tennis. https://pmc.ncbi.nlm.nih.gov/articles/PMC10538650/?utm_source=chatgpt.com#sec013\n",
    "3. <a name=\"cite_ref-3\"></a>[^](#cite_note-3) Hizan H., Reid P., Whipp P. (Jan 2011) Comparison of serve an serve return statistics of high performance male and female tennis players from different age-groups. https://www.researchgate.net/publication/263213823_Comparison_of_serve_and_serve_return_statistics_of_high_performance_male_and_female_tennis_players_from_different_age-groups\n",
    "4. <a name=\"cite_ref-4\"></a> [^](#cite_note-4) Baiget, E., Brich Q., Colomar J., Corbi, F. (5 Jul 2022) Determinant Physical Factors of Tennis Serve Velocity: A Brief Review. https://doi.org/10.1123/ijspp.2022-0091"
   ]
  },
  {
   "cell_type": "markdown",
   "metadata": {},
   "source": [
    "# Hypothesis\n"
   ]
  },
  {
   "cell_type": "markdown",
   "metadata": {},
   "source": [
    "\n",
    "- Put your hypothesis here, this is different than your question. This what you think the answer will be \n",
    "- Ensure that this hypothesis is clear to readers\n",
    "- Explain why you think this will be the outcome (what was your thinking?)\n",
    "\n",
    "If you question is \"What is the association between X and Y\" then a hypothesis might be \"We predict a strong correlation between X and Y\" or you might predict no correlation or any other possible relationship. Briefly explain your thinking. (2-3 sentences)\n",
    "\n",
    "We believe that there is likely to be a positive relationship between a strong serve and favorable match outcome because good serves can win a point outright or setup the momentum/aggression for the rest of the point. However, what makes a \"good\" serve is not concrete, and other variables and aspects of the serve (first serve/second serve, type of serve(flat, kick, slice), position, kind of point(break, match), surface type, serve speed, etc.) are likely to affect match outcome. We hope to dictate what makes a \"strong\" serve and see if this reflects in win percentage.\n"
   ]
  },
  {
   "cell_type": "markdown",
   "metadata": {},
   "source": [
    "# Data"
   ]
  },
  {
   "cell_type": "markdown",
   "metadata": {},
   "source": [
    "1. Explain what the **ideal** dataset you would want to answer this question. (This should include: What variables? How many observations? Who/what/how would these data be collected? How would these data be stored/organized?)\n",
    "\n",
    "Variables Wanted:\n",
    "- first serve/second serve\n",
    "- serve speed\n",
    "- serve placement\n",
    "- serve type (kick, slice, flat, etc.)\n",
    "- win percentage\n",
    "- surface type (clay, grass, hard court)\n",
    "- ace percentage\n",
    "- points won in less than 3 strokes\n",
    "- points won after serve returned\n",
    "- points won due to serve\n",
    "Number of observations: 6000\n",
    "Who/what/how data collected: \n",
    "- Who: per player data\n",
    "- What: per match data, singles, pro data (ATP)\n",
    "- How: volunteer at matches, crowdsourcing, straight from ATP/API\n",
    "How data organized?\n",
    "- It would be best if the data is organized per player and the columns were organized by the variables we mentioned. \n",
    "\n",
    "1. Search for potential **real** datasets that could provide you with something useful for this project.  You do not have to find every piece of data you will use, but you do need to have demonstrated some idea that (a) this data is gettable and (b) that this data may be different from what your ideal is.\n",
    "Some datasets we found:\n",
    "- [Roger Federer(very good pro player) Dataset](https://www.tennisabstract.com/cgi-bin/player-more.cgi?p=103819/Roger-Federer&table=mcp-serve)\n",
    "  - The columns/variables in this dataset are pretty similar to our ideals, having things like unreturn percentages, match outcomes, and more. It is also user submitted and crowdsourced.\n",
    "  - This dataset is different from our ideal in that it only has data on one player.\n",
    "- [General ATP Men's Singles Dataset](https://www.kaggle.com/datasets/afafathar3007/dataset)\n",
    "  - The columns/variables in this dataset are also similar to ideals, having things like tournament surface, winnerID, and more.\n",
    "  - This dataset is different from our ideal as it has columns on things like tournamentID, type of tournament (slam vs regular), etc. which might not be as important when related to serve.\n",
    "- The website we found for Roger also has data on other players, so we might be able to combine this data in the future which is good."
   ]
  },
  {
   "cell_type": "markdown",
   "metadata": {},
   "source": [
    "# Ethics & Privacy"
   ]
  },
  {
   "cell_type": "markdown",
   "metadata": {},
   "source": [
    "- Thoughtful discussion of ethical concerns included\n",
    "- Ethical concerns consider the whole data science process (question asked, data collected, data being used, the bias in data, analysis, post-analysis, etc.)\n",
    "- How your group handled bias/ethical concerns clearly described\n",
    "\n",
    "Acknowledge and address any ethics & privacy related issues of your question(s), proposed dataset(s), and/or analyses. Use the information provided in lecture to guide your group discussion and thinking. If you need further guidance, check out [Deon's Ethics Checklist](http://deon.drivendata.org/#data-science-ethics-checklist). In particular:\n",
    "\n",
    "- Are there any biases/privacy/terms of use issues with the data you propsed?\n",
    "  - proportion of data is biased to older/more popular players rather than new/not popular players, player bioinformation (hypothetically, what if we revealed an injury that was unknown because we measured their service was getting \"weaker\" or something like that), data might need to be scraped, data was crowdsourced (how trustworthy?)\n",
    "- Are there potential biases in your dataset(s), in terms of who it composes, and how it was collected, that may be problematic in terms of it allowing for equitable analysis? (For example, does your data exclude particular populations, or is it likely to reflect particular human biases in a way that could be a problem?)\n",
    "  - older/more popular players are more represented than new/not popular players, data collected by fans are inherently biased -> could introduce racial, cultural, gender bias, possible sabotage of data (how are changes to the dataset moderated)\n",
    "- How will you set out to detect these specific biases before, during, and after/when communicating your analysis?\n",
    "  - make sure datasets between players are around the same sample size\n",
    "  - noting the era that the data was taken in\n",
    "  - possibly cross examine the dataset with official ATP dataset\n",
    "  - make sure to mention where these possible biases are found and how they might affect our analysis in our final communication\n",
    "- Are there any other issues related to your topic area, data, and/or analyses that are potentially problematic in terms of data privacy and equitable impact?\n",
    "  - player bioinformation (hypothetically, what if we revealed an injury that was unknown because we measured their service was getting \"weaker\" or something like that, would it affect the player's livelihood?)\n",
    "  - players are represented unequally based on dataset, we get looks at more old/popular players over new/unpopular players\n",
    "- How will you handle issues you identified?\n",
    "  - ensure datasets have good sample size and are relatively equal in size, and possibly representative of real life expectation\n",
    "  - note areas in our data that could be biased in our analysis and communicate this in our findings\n",
    "  - cross examine the crowdsourced data with official data when we can"
   ]
  },
  {
   "cell_type": "markdown",
   "metadata": {},
   "source": [
    "# Team Expectations "
   ]
  },
  {
   "cell_type": "markdown",
   "metadata": {},
   "source": [
    "\n",
    "Read over the [COGS108 Team Policies](https://github.com/COGS108/Projects/blob/master/COGS108_TeamPolicies.md) individually. Then, include your group’s expectations of one another for successful completion of your COGS108 project below. Discuss and agree on what all of your expectations are. Discuss how your team will communicate throughout the quarter and consider how you will communicate respectfully should conflicts arise. By including each member’s name above and by adding their name to the submission, you are indicating that you have read the COGS108 Team Policies, accept your team’s expectations below, and have every intention to fulfill them. These expectations are for your team’s use and benefit — they won’t be graded for their details.\n",
    "\n",
    "* Communication through Discord\n",
    "* Meetings through Discord, in person if needed\n",
    "* Meet at least once weekly before assignments/checkpoints are due\n",
    "* Commitment to task delegation: do what you said you're gonna do!\n",
    "* If there's any issues/blockers, communicate that as soon as possible so that we can figure out what to do\n",
    "  * ex if you got an exam, let someone know so there's time to help\n",
    "* Friday/Weekend/once a week checkpoint/meeting, catch everyone up on what you're doing/did and maybe have work together time\n",
    "  * make sure everyone knows whats going on, not a compartmentalized project\n",
    "* Conflict resolution: talk to each other privately, don't blast in public chat\n",
    "  * be civil, understand agree to disagree at times\n",
    "* All of us meet at least once, maybe do something just to get to know each other\n",
    "* Tell everyone when made changes to repo so that they can pull\n",
    "* Pull before every time you make changes just to keep up to date\n",
    "* If theres anything to work on, just communicate on Discord"
   ]
  },
  {
   "cell_type": "markdown",
   "metadata": {},
   "source": [
    "# Project Timeline Proposal"
   ]
  },
  {
   "cell_type": "markdown",
   "metadata": {},
   "source": [
    "Specify your team's specific project timeline. An example timeline has been provided. Changes the dates, times, names, and details to fit your group's plan.\n",
    "\n",
    "If you think you will need any special resources or training outside what we have covered in COGS 108 to solve your problem, then your proposal should state these clearly. For example, if you have selected a problem that involves implementing multiple neural networks, please state this so we can make sure you know what you’re doing and so we can point you to resources you will need to implement your project. Note that you are not required to use outside methods.\n",
    "\n",
    "\n",
    "\n",
    "| Meeting Date  | Meeting Time| Completed Before Meeting  | Discuss at Meeting |\n",
    "|---|---|---|---|\n",
    "| 4/29  |  7 PM | Read & Think about COGS 108 expectations; brainstorm topics/questions  | Determine best form of communication; Discuss and decide on final project topic; discuss hypothesis; begin background research | \n",
    "| 4/30  |  3 PM |  Do background research on topic | Discuss ideal dataset(s) and ethics; draft project proposal | \n",
    "| 4/30  | 9 PM  | Edit, finalize, and submit proposal; Search for datasets  | Discuss Wrangling and possible analytical approaches; Assign group members to lead each specific part   |\n",
    "| 5/05  | 6 PM  | Import & Wrangle Data (Altair); EDA (Howard) | Review/Edit wrangling/EDA; Discuss Analysis Plan   |\n",
    "| 5/12  | 6 PM  | Finalize wrangling/EDA; Begin Analysis (Daniel; Ashton) | Discuss/edit Analysis; Complete project check-in |\n",
    "| 6/08  | 6 PM  | Complete analysis; Draft results/conclusion/discussion (Jason)| Discuss/edit full project |\n",
    "| 6/11  | Before 11:59 PM  | NA | Turn in Final Project & Group Project Surveys |"
   ]
  },
  {
   "cell_type": "markdown",
   "metadata": {},
   "source": []
  }
 ],
 "metadata": {
  "kernelspec": {
   "display_name": "Python 3 (ipykernel)",
   "language": "python",
   "name": "python3"
  },
  "language_info": {
   "codemirror_mode": {
    "name": "ipython",
    "version": 3
   },
   "file_extension": ".py",
   "mimetype": "text/x-python",
   "name": "python",
   "nbconvert_exporter": "python",
   "pygments_lexer": "ipython3",
   "version": "3.9.7"
  }
 },
 "nbformat": 4,
 "nbformat_minor": 2
}
